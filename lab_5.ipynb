{
 "cells": [
  {
   "cell_type": "code",
   "execution_count": null,
   "metadata": {
    "collapsed": true
   },
   "outputs": [],
   "source": [
    "## Максимальное правдоподобие"
   ]
  },
  {
   "cell_type": "code",
   "execution_count": 27,
   "metadata": {
    "collapsed": false
   },
   "outputs": [],
   "source": [
    "import numpy as np\n",
    "import pandas as pd\n",
    "import matplotlib.pyplot as plt\n",
    "import scipy\n",
    "import scipy.optimize\n",
    "from scipy.special import gammaln\n",
    "\n",
    "def facln(n):\n",
    "    return gammaln(n+1)\n",
    "\n",
    "%matplotlib inline"
   ]
  },
  {
   "cell_type": "code",
   "execution_count": 67,
   "metadata": {
    "collapsed": true
   },
   "outputs": [],
   "source": [
    "def gen_sample(n, l):\n",
    "    return scipy.random.poisson(l, n)"
   ]
  },
  {
   "cell_type": "code",
   "execution_count": 14,
   "metadata": {
    "collapsed": true
   },
   "outputs": [],
   "source": [
    "def gen_lnl(sample):\n",
    "    n = len(sample)\n",
    "    def lnl(l):\n",
    "        s = -n*l\n",
    "        s += sum(sample)*np.log(l)\n",
    "        s -= sum(facln(m_j) for m_j in sample)\n",
    "        return s\n",
    "    return lnl\n",
    "        "
   ]
  },
  {
   "cell_type": "code",
   "execution_count": 123,
   "metadata": {
    "collapsed": false
   },
   "outputs": [],
   "source": [
    "def estimate(sample, bounds=(0, 10**5)):\n",
    "    lnl = gen_lnl(sample)\n",
    "    invlnl = lambda z: -lnl(z)\n",
    "    l_0 = scipy.optimize.minimize(\n",
    "        invlnl,\n",
    "        1,\n",
    "        method=\"l-bfgs-b\",\n",
    "        bounds=(bounds,)).x[0]\n",
    "    return l_0\n",
    "\n",
    "\n",
    "def likelihoodln(sample, bounds=(0, 10**5)):\n",
    "    lnl = gen_lnl(sample)\n",
    "    invlnl = lambda z: -lnl(z)\n",
    "    l_0 = scipy.optimize.minimize(\n",
    "        invlnl,\n",
    "        1,\n",
    "        method=\"l-bfgs-b\",\n",
    "        bounds=(bounds,)).x[0]\n",
    "    return lnl(l_0)\n",
    "\n",
    "\n",
    "def iteration(n, l):\n",
    "    s = gen_sample(n, l)\n",
    "    lnl = gen_lnl(s)\n",
    "    l_0 = estimate(s, bounds=(0, l))\n",
    "    ab = np.linspace(0, l, 1000)\n",
    "    def plot_like():\n",
    "        plt.plot(ab, [lnl(l) for l in ab])\n",
    "        plt.scatter(l_0, lnl(l_0))\n",
    "        plt.show()\n",
    "    return (l_0, lnl(l_0), plot_like)"
   ]
  },
  {
   "cell_type": "code",
   "execution_count": 126,
   "metadata": {
    "collapsed": false
   },
   "outputs": [
    {
     "data": {
      "image/png": "[encoded data removed]",
      "text/plain": [
       "<matplotlib.figure.Figure at 0x7f1a31b5acc0>"
      ]
     },
     "metadata": {},
     "output_type": "display_data"
    },
    {
     "name": "stdout",
     "output_type": "stream",
     "text": [
      "3.0\n"
     ]
    }
   ],
   "source": [
    "l_0, lnl_l0, plot = iteration(512, 3)\n",
    "plot()\n",
    "print(l_0)"
   ]
  },
  {
   "cell_type": "code",
   "execution_count": 118,
   "metadata": {
    "collapsed": false
   },
   "outputs": [
    {
     "data": {
      "text/plain": [
       "[<matplotlib.lines.Line2D at 0x7f1a319c3c18>]"
      ]
     },
     "execution_count": 118,
     "metadata": {},
     "output_type": "execute_result"
    },
    {
     "data": {
      "image/png": "[encoded data removed]",
      "text/plain": [
       "<matplotlib.figure.Figure at 0x7f1a33195470>"
      ]
     },
     "metadata": {},
     "output_type": "display_data"
    }
   ],
   "source": [
    "nn = list(10*k for k in range(92))\n",
    "ll = [estimate(gen_sample(n, 3)) for n in nn]\n",
    "plt.plot(nn, ll)"
   ]
  },
  {
   "cell_type": "code",
   "execution_count": 125,
   "metadata": {
    "collapsed": false
   },
   "outputs": [
    {
     "data": {
      "text/plain": [
       "[<matplotlib.lines.Line2D at 0x7f1a3306eb70>]"
      ]
     },
     "execution_count": 125,
     "metadata": {},
     "output_type": "execute_result"
    },
    {
     "data": {
      "image/png": "[encoded data removed]",
      "text/plain": [
       "<matplotlib.figure.Figure at 0x7f1a33049048>"
      ]
     },
     "metadata": {},
     "output_type": "display_data"
    }
   ],
   "source": [
    "nn = list(10*k for k in range(92))\n",
    "ll = [likelihoodln(gen_sample(n, 3)) for n in nn]\n",
    "plt.plot(nn, ll)"
   ]
  },
  {
   "cell_type": "code",
   "execution_count": null,
   "metadata": {
    "collapsed": true
   },
   "outputs": [],
   "source": []
  }
 ],
 "metadata": {
  "kernelspec": {
   "display_name": "Python 3",
   "language": "python",
   "name": "python3"
  },
  "language_info": {
   "codemirror_mode": {
    "name": "ipython",
    "version": 3
   },
   "file_extension": ".py",
   "mimetype": "text/x-python",
   "name": "python",
   "nbconvert_exporter": "python",
   "pygments_lexer": "ipython3",
   "version": "3.5.1"
  }
 },
 "nbformat": 4,
 "nbformat_minor": 0
}
