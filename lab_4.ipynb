{
 "cells": [
  {
   "cell_type": "markdown",
   "metadata": {},
   "source": [
    "## Точечные оценки параметров распределения"
   ]
  },
  {
   "cell_type": "code",
   "execution_count": 1,
   "metadata": {
    "collapsed": false
   },
   "outputs": [],
   "source": [
    "import pandas as pd\n",
    "import numpy as np\n",
    "X = np.array([\n",
    "        904.3, 910.2,\n",
    "         916.6, 928.8,\n",
    "         935.0, 941.2,\n",
    "         947.4, 953.6,\n",
    "         959.8, 966.0,\n",
    "         972.2, 978.4])\n",
    "N = np.array([\n",
    "        1, 3, 1, 1, 1, 1,\n",
    "        2, 1, 1, 1, 2, 1])\n",
    "n = sum(N)"
   ]
  },
  {
   "cell_type": "code",
   "execution_count": 2,
   "metadata": {
    "collapsed": false
   },
   "outputs": [
    {
     "name": "stdout",
     "output_type": "stream",
     "text": [
      "$E=940.843750$\n",
      "$D=635.827958$\n"
     ]
    }
   ],
   "source": [
    "E_sample = sum(X*N)/n\n",
    "D_sample = sum(\n",
    "    ((x - E_sample)**2) * N[j]\n",
    "    for j,x in enumerate(X))/(n-1)\n",
    "print(\"$E=%f$\"%E_sample)\n",
    "print(\"$D=%f$\"%D_sample)"
   ]
  },
  {
   "cell_type": "code",
   "execution_count": null,
   "metadata": {
    "collapsed": true
   },
   "outputs": [],
   "source": []
  }
 ],
 "metadata": {
  "kernelspec": {
   "display_name": "Python 3",
   "language": "python",
   "name": "python3"
  },
  "language_info": {
   "codemirror_mode": {
    "name": "ipython",
    "version": 3
   },
   "file_extension": ".py",
   "mimetype": "text/x-python",
   "name": "python",
   "nbconvert_exporter": "python",
   "pygments_lexer": "ipython3",
   "version": "3.5.1"
  }
 },
 "nbformat": 4,
 "nbformat_minor": 0
}
