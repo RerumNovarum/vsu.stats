{
 "cells": [
  {
   "cell_type": "code",
   "execution_count": 61,
   "metadata": {
    "collapsed": true
   },
   "outputs": [],
   "source": [
    "import numpy as np\n",
    "import pandas as pd\n",
    "import scipy.stats\n",
    "import matplotlib.pyplot as plt\n",
    "%matplotlib inline"
   ]
  },
  {
   "cell_type": "code",
   "execution_count": 26,
   "metadata": {
    "collapsed": false
   },
   "outputs": [],
   "source": [
    "with open(\n",
    "    'data_sample.txt',\n",
    "    mode='r',\n",
    "    encoding='utf8') as f:\n",
    "    sample_raw = [float(x) for x in f.read().split()]"
   ]
  },
  {
   "cell_type": "code",
   "execution_count": 111,
   "metadata": {
    "collapsed": true
   },
   "outputs": [],
   "source": [
    "X = pd.Series(sorted(sample_raw))"
   ]
  },
  {
   "cell_type": "code",
   "execution_count": 143,
   "metadata": {
    "collapsed": false
   },
   "outputs": [],
   "source": [
    "def EDF(x):\n",
    "    l, r = 0, len(X) - 1\n",
    "    while l < r:\n",
    "        # boundary cases\n",
    "        if x < X[l]:  return l\n",
    "        if X[r] <= x: return r+1\n",
    "        # to avoid inf loop\n",
    "        if X[l] <= x:    l += 1\n",
    "        if X[r-1] >  x: r -= 1\n",
    "        m = (l+r)//2\n",
    "        if   x < X[m]: r = m\n",
    "        elif x > X[m]: l = m\n",
    "        else: l = m\n",
    "    return (l+r)//2 + 1"
   ]
  },
  {
   "cell_type": "code",
   "execution_count": 146,
   "metadata": {
    "collapsed": false
   },
   "outputs": [
    {
     "data": {
      "text/plain": [
       "[<matplotlib.lines.Line2D at 0x7fe878990e80>]"
      ]
     },
     "execution_count": 146,
     "metadata": {},
     "output_type": "execute_result"
    },
    {
     "data": {
      "image/png": "[encoded data removed]",
      "text/plain": [
       "<matplotlib.figure.Figure at 0x7fe8789c2908>"
      ]
     },
     "metadata": {},
     "output_type": "display_data"
    }
   ],
   "source": [
    "x_ab = np.linspace(min(X)-1, max(X)+1, 768)\n",
    "img_edf = [EDF(x) for x in x_ab]\n",
    "plt.plot(x_ab, img_edf)"
   ]
  },
  {
   "cell_type": "code",
   "execution_count": 100,
   "metadata": {
    "collapsed": false
   },
   "outputs": [],
   "source": [
    "def K(z, eps=0.001):\n",
    "    if z <= 0: return 0\n",
    "    N = int(np.floor(np.sqrt(np.log(1/eps))/z)) + 1\n",
    "    v = 0\n",
    "    for k in range(-N, N+1):\n",
    "        term = np.exp(-2 * (k*z)**2)\n",
    "        if k%2: term *= -1\n",
    "        v += term\n",
    "    return v"
   ]
  },
  {
   "cell_type": "code",
   "execution_count": 99,
   "metadata": {
    "collapsed": false
   },
   "outputs": [
    {
     "data": {
      "text/plain": [
       "[<matplotlib.lines.Line2D at 0x7fe878e09278>]"
      ]
     },
     "execution_count": 99,
     "metadata": {},
     "output_type": "execute_result"
    },
    {
     "data": {
      "image/png": "[encoded data removed]",
      "text/plain": [
       "<matplotlib.figure.Figure at 0x7fe878eb9240>"
      ]
     },
     "metadata": {},
     "output_type": "display_data"
    }
   ],
   "source": [
    "x_ab = np.linspace(0, 3, 2048)\n",
    "img = [K(x, eps=0.001) for x in x_ab]\n",
    "plt.plot(x_ab, img)"
   ]
  },
  {
   "cell_type": "code",
   "execution_count": null,
   "metadata": {
    "collapsed": true
   },
   "outputs": [],
   "source": []
  },
  {
   "cell_type": "code",
   "execution_count": null,
   "metadata": {
    "collapsed": true
   },
   "outputs": [],
   "source": []
  }
 ],
 "metadata": {
  "kernelspec": {
   "display_name": "Python 3",
   "language": "python",
   "name": "python3"
  },
  "language_info": {
   "codemirror_mode": {
    "name": "ipython",
    "version": 3
   },
   "file_extension": ".py",
   "mimetype": "text/x-python",
   "name": "python",
   "nbconvert_exporter": "python",
   "pygments_lexer": "ipython3",
   "version": "3.5.1"
  }
 },
 "nbformat": 4,
 "nbformat_minor": 0
}
