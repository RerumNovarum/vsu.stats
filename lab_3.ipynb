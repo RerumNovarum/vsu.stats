{
 "cells": [
  {
   "cell_type": "code",
   "execution_count": 1,
   "metadata": {
    "collapsed": true
   },
   "outputs": [],
   "source": [
    "import numpy as np\n",
    "import pandas as pd\n",
    "import scipy as sp\n",
    "import scipy.stats\n",
    "import matplotlib.pyplot as plt\n",
    "%matplotlib inline"
   ]
  },
  {
   "cell_type": "code",
   "execution_count": 2,
   "metadata": {
    "collapsed": false
   },
   "outputs": [],
   "source": [
    "with open(\n",
    "    'data_sample.txt',\n",
    "    mode='r',\n",
    "    encoding='utf8') as f:\n",
    "    sample_raw = [float(x) for x in f.read().split()]"
   ]
  },
  {
   "cell_type": "code",
   "execution_count": 3,
   "metadata": {
    "collapsed": true
   },
   "outputs": [],
   "source": [
    "X = pd.Series(sorted(sample_raw))\n",
    "n = len(X)"
   ]
  },
  {
   "cell_type": "code",
   "execution_count": 4,
   "metadata": {
    "collapsed": false
   },
   "outputs": [],
   "source": [
    "def EDF(x):\n",
    "    l, r = 0, len(X) - 1\n",
    "    while l < r:\n",
    "        # boundary cases\n",
    "        if x < X[l]:  return l\n",
    "        if X[r] <= x: return r+1\n",
    "        # to avoid inf loop\n",
    "        if X[l] <= x:    l += 1\n",
    "        if X[r-1] >  x: r -= 1\n",
    "        m = (l+r)//2\n",
    "        if   x < X[m]: r = m\n",
    "        elif x > X[m]: l = m\n",
    "        else: l = m\n",
    "    return (l+r)//2 + 1"
   ]
  },
  {
   "cell_type": "code",
   "execution_count": 5,
   "metadata": {
    "collapsed": false
   },
   "outputs": [
    {
     "data": {
      "text/plain": [
       "[<matplotlib.lines.Line2D at 0x7f496460fa20>]"
      ]
     },
     "execution_count": 5,
     "metadata": {},
     "output_type": "execute_result"
    },
    {
     "data": {
      "image/png": "[encoded data removed]",
      "text/plain": [
       "<matplotlib.figure.Figure at 0x7f49646a69b0>"
      ]
     },
     "metadata": {},
     "output_type": "display_data"
    }
   ],
   "source": [
    "x_ab = np.linspace(min(X)-1, max(X)+1, 768)\n",
    "img_edf = [EDF(x) for x in x_ab]\n",
    "plt.plot(x_ab, img_edf)"
   ]
  },
  {
   "cell_type": "code",
   "execution_count": 6,
   "metadata": {
    "collapsed": false
   },
   "outputs": [],
   "source": [
    "def K(z, eps=0.0001):\n",
    "    if z <= 0: return 0\n",
    "    N = int(np.floor(np.sqrt(np.log(1/eps))/z)) + 1\n",
    "    v = 0\n",
    "    for k in range(-N, N+1):\n",
    "        term = np.exp(-2 * (k*z)**2)\n",
    "        if k%2: term *= -1\n",
    "        v += term\n",
    "    return v"
   ]
  },
  {
   "cell_type": "code",
   "execution_count": 7,
   "metadata": {
    "collapsed": false
   },
   "outputs": [
    {
     "data": {
      "text/plain": [
       "[<matplotlib.lines.Line2D at 0x7f4964542b70>]"
      ]
     },
     "execution_count": 7,
     "metadata": {},
     "output_type": "execute_result"
    },
    {
     "data": {
      "image/png": "[encoded data removed]",
      "text/plain": [
       "<matplotlib.figure.Figure at 0x7f4964644400>"
      ]
     },
     "metadata": {},
     "output_type": "display_data"
    }
   ],
   "source": [
    "x_ab = np.linspace(0, 3, 2048)\n",
    "img = [K(x, eps=0.001) for x in x_ab]\n",
    "plt.plot(x_ab, img)"
   ]
  },
  {
   "cell_type": "markdown",
   "metadata": {},
   "source": [
    "Из методички:\n",
    "> Зададимся вероятностью $\\alpha$, такой\n",
    "> что событие, происходящее с вероятностью $1-\\alpha$\n",
    "> является практически достоверным\n",
    "\n",
    "WTF? $\\alpha=0$?\n",
    "Где определение \"практически достоверного события\"?\n",
    "\n",
    "> Вычислим корень уравнения $1-K(z) = \\alpha$\n",
    "\n",
    "Т.е. задача в максимизации значения функции $K$?"
   ]
  },
  {
   "cell_type": "code",
   "execution_count": 8,
   "metadata": {
    "collapsed": false
   },
   "outputs": [
    {
     "name": "stdout",
     "output_type": "stream",
     "text": [
      "$z_\\alpha=2.736880$\n",
      "$\\alpha=0.000001$\n"
     ]
    },
    {
     "data": {
      "text/plain": [
       "[<matplotlib.lines.Line2D at 0x7f49644b0438>]"
      ]
     },
     "execution_count": 8,
     "metadata": {},
     "output_type": "execute_result"
    },
    {
     "data": {
      "image/png": "[encoded data removed]",
      "text/plain": [
       "<matplotlib.figure.Figure at 0x7f4964654748>"
      ]
     },
     "metadata": {},
     "output_type": "display_data"
    }
   ],
   "source": [
    "def K_c(z, eps=.00001): return 1-K(z, eps)\n",
    "opt = sp.optimize.minimize(\n",
    "    K_c,\n",
    "    2,\n",
    "    method='l-bfgs-b',\n",
    "    bounds=((0, 3),))\n",
    "z_alpha = opt.x[0]\n",
    "alpha = K_c(z_alpha)\n",
    "print(\"$z_\\\\alpha=%f$\"%z_alpha)\n",
    "print(\"$\\\\alpha=%f$\"%alpha)\n",
    "ab = np.linspace(0,3,2048)\n",
    "img_ab = np.array([K_c(x) for x in ab])\n",
    "plt.plot(ab, img_ab)\n",
    "plt.scatter((z_alpha, ), (K_c(z_alpha),))\n",
    "delta = z_alpha/np.sqrt(n)\n",
    "plt.plot(ab, img_ab - delta, color='red')\n",
    "plt.plot(ab, img_ab + delta, color='red')"
   ]
  },
  {
   "cell_type": "code",
   "execution_count": null,
   "metadata": {
    "collapsed": true
   },
   "outputs": [],
   "source": []
  },
  {
   "cell_type": "code",
   "execution_count": null,
   "metadata": {
    "collapsed": true
   },
   "outputs": [],
   "source": []
  }
 ],
 "metadata": {
  "kernelspec": {
   "display_name": "Python 3",
   "language": "python",
   "name": "python3"
  },
  "language_info": {
   "codemirror_mode": {
    "name": "ipython",
    "version": 3
   },
   "file_extension": ".py",
   "mimetype": "text/x-python",
   "name": "python",
   "nbconvert_exporter": "python",
   "pygments_lexer": "ipython3",
   "version": "3.5.1"
  }
 },
 "nbformat": 4,
 "nbformat_minor": 0
}
