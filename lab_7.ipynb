{
 "cells": [
  {
   "cell_type": "code",
   "execution_count": 1,
   "metadata": {
    "collapsed": false
   },
   "outputs": [],
   "source": [
    "import numpy as np\n",
    "import scipy as sp, scipy.stats\n",
    "import pandas as pd\n",
    "import matplotlib, matplotlib.pyplot as plt"
   ]
  },
  {
   "cell_type": "code",
   "execution_count": 2,
   "metadata": {
    "collapsed": true
   },
   "outputs": [],
   "source": [
    "mu, sd = 6, 2\n",
    "a = .1\n",
    "n = 100\n",
    "def gen_sample():\n",
    "    return pd.Series(scipy.random.normal(mu, sd, n))\n",
    "sample = gen_sample()"
   ]
  },
  {
   "cell_type": "code",
   "execution_count": 3,
   "metadata": {
    "collapsed": true
   },
   "outputs": [],
   "source": [
    "def crit_norm(mu_0, sd, sample, significance):\n",
    "    a = significance\n",
    "    n = len(sample)\n",
    "    mean = sum(sample/n)\n",
    "    r = scipy.stats.norm.pdf(1 - a/2, loc=mu_0, scale=sd)\n",
    "    l = -r\n",
    "    phi_1 = (mean - mu_0) / np.sqrt(sd**2 / n)\n",
    "    return phi_1, l, r"
   ]
  },
  {
   "cell_type": "code",
   "execution_count": 4,
   "metadata": {
    "collapsed": true
   },
   "outputs": [],
   "source": [
    "def test_mu_eq(phi, l, r):\n",
    "    return l <= phi <= r\n",
    "def test_mu_eq_alt_gt(phi, l, r):\n",
    "    return phi <= r\n",
    "def test_mu(phi, l, r):\n",
    "    if l <= phi <= r: return 0\n",
    "    if phi < l: return -1\n",
    "    else: return 1"
   ]
  },
  {
   "cell_type": "markdown",
   "metadata": {},
   "source": [
    "Проверка гипотезы о значении математического ожидания при известной дисперсии\n",
    "----"
   ]
  },
  {
   "cell_type": "code",
   "execution_count": 5,
   "metadata": {
    "collapsed": false
   },
   "outputs": [
    {
     "name": "stdout",
     "output_type": "stream",
     "text": [
      "WA\n"
     ]
    }
   ],
   "source": [
    "print('AC' if test_mu_eq(*crit_norm(6, 2, sample, a)) else 'WA')"
   ]
  },
  {
   "cell_type": "code",
   "execution_count": 6,
   "metadata": {
    "collapsed": false
   },
   "outputs": [
    {
     "name": "stdout",
     "output_type": "stream",
     "text": [
      "5.99407131805\n"
     ]
    }
   ],
   "source": [
    "mu_0 = sample.mean()\n",
    "print(mu_0)"
   ]
  },
  {
   "cell_type": "code",
   "execution_count": 7,
   "metadata": {
    "collapsed": false
   },
   "outputs": [
    {
     "name": "stdout",
     "output_type": "stream",
     "text": [
      "-0.896511696178\n",
      "(-0.00829238507237102, 0.00829238507237102)\n",
      "WA\n"
     ]
    }
   ],
   "source": [
    "phi, l, r = crit_norm(mu_0, 2, gen_sample(), a)\n",
    "print(phi)\n",
    "print((l,r))\n",
    "print('AC' if test_mu_eq(phi, l, r) else 'WA')"
   ]
  },
  {
   "cell_type": "code",
   "execution_count": 8,
   "metadata": {
    "collapsed": false
   },
   "outputs": [
    {
     "name": "stdout",
     "output_type": "stream",
     "text": [
      "LT\n"
     ]
    }
   ],
   "source": [
    "loc = test_mu(phi, l, r)\n",
    "if loc == 0: print('EQ')\n",
    "elif loc == 1: print('GT')\n",
    "else: print('LT')"
   ]
  },
  {
   "cell_type": "markdown",
   "metadata": {},
   "source": [
    "Проверка гипотезы о значении математического ожидания при неизвестной дисперсии\n",
    "----"
   ]
  },
  {
   "cell_type": "code",
   "execution_count": 9,
   "metadata": {
    "collapsed": false
   },
   "outputs": [
    {
     "name": "stdout",
     "output_type": "stream",
     "text": [
      "4.71098886185\n"
     ]
    }
   ],
   "source": [
    "s2 = sample.var()\n",
    "print(s2)"
   ]
  },
  {
   "cell_type": "code",
   "execution_count": 10,
   "metadata": {
    "collapsed": true
   },
   "outputs": [],
   "source": [
    "def crit_t(mu_0, sample, significance):\n",
    "    a = significance\n",
    "    n = len(sample)\n",
    "    mean = sample.mean()\n",
    "    sd = sample.var()\n",
    "    r = scipy.stats.t.pdf(1 - a/2, df=(n-1))\n",
    "    l = -r\n",
    "    phi_1 = (mean - mu_0) / np.sqrt(sd**2 / n)\n",
    "    return phi_1, l, r"
   ]
  },
  {
   "cell_type": "code",
   "execution_count": 11,
   "metadata": {
    "collapsed": false
   },
   "outputs": [
    {
     "name": "stdout",
     "output_type": "stream",
     "text": [
      "0.0114362899202\n",
      "(-0.25278732551354438, 0.25278732551354438)\n"
     ]
    }
   ],
   "source": [
    "phi, l, r = crit_t(mu_0, gen_sample(), significance=a)\n",
    "print(phi)\n",
    "print((l,r))"
   ]
  },
  {
   "cell_type": "code",
   "execution_count": 12,
   "metadata": {
    "collapsed": false
   },
   "outputs": [
    {
     "name": "stdout",
     "output_type": "stream",
     "text": [
      "EQ\n"
     ]
    }
   ],
   "source": [
    "loc = test_mu(phi, l, r)\n",
    "if loc == 0: print('EQ')\n",
    "elif loc == 1: print('GT')\n",
    "else: print('LT')"
   ]
  },
  {
   "cell_type": "markdown",
   "metadata": {},
   "source": [
    "Проверка гипотезы о числовом значении дисперсии\n",
    "----"
   ]
  },
  {
   "cell_type": "code",
   "execution_count": 13,
   "metadata": {
    "collapsed": true
   },
   "outputs": [],
   "source": [
    "def crit(mu, sd_0, sample, significance):\n",
    "    a = significance\n",
    "    s2 = sample.var()\n",
    "    phi = (n-1) * s2 / sd_0**2\n",
    "    l = scipy.stats.chi2.ppf(a/2, df=n-1)\n",
    "    r = scipy.stats.chi2.ppf(1-a/2, df=n-1)\n",
    "    return phi,l,r"
   ]
  },
  {
   "cell_type": "code",
   "execution_count": 14,
   "metadata": {
    "collapsed": false
   },
   "outputs": [
    {
     "name": "stdout",
     "output_type": "stream",
     "text": [
      "104.718076176\n",
      "(77.046331863760528, 123.22522145336157)\n"
     ]
    }
   ],
   "source": [
    "phi, l, r = crit(mu, sd, gen_sample(), a)\n",
    "print(phi)\n",
    "print((l, r))"
   ]
  },
  {
   "cell_type": "code",
   "execution_count": 15,
   "metadata": {
    "collapsed": false
   },
   "outputs": [
    {
     "name": "stdout",
     "output_type": "stream",
     "text": [
      "EQ\n"
     ]
    }
   ],
   "source": [
    "if l <= phi <= r: print('EQ')\n",
    "elif r < phi == 1: print('GT')\n",
    "else: print('LT')"
   ]
  },
  {
   "cell_type": "code",
   "execution_count": null,
   "metadata": {
    "collapsed": true
   },
   "outputs": [],
   "source": []
  }
 ],
 "metadata": {
  "kernelspec": {
   "display_name": "Python 3",
   "language": "python",
   "name": "python3"
  },
  "language_info": {
   "codemirror_mode": {
    "name": "ipython",
    "version": 3
   },
   "file_extension": ".py",
   "mimetype": "text/x-python",
   "name": "python",
   "nbconvert_exporter": "python",
   "pygments_lexer": "ipython3",
   "version": "3.5.1"
  }
 },
 "nbformat": 4,
 "nbformat_minor": 0
}
