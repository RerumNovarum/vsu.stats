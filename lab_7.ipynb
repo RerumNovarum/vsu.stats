{
 "cells": [
  {
   "cell_type": "code",
   "execution_count": 1,
   "metadata": {
    "collapsed": false
   },
   "outputs": [],
   "source": [
    "import numpy as np\n",
    "import scipy as sp, scipy.stats\n",
    "import pandas as pd\n",
    "import matplotlib, matplotlib.pyplot as plt\n",
    "\n",
    "%matplotlib inline"
   ]
  },
  {
   "cell_type": "code",
   "execution_count": 2,
   "metadata": {
    "collapsed": true
   },
   "outputs": [],
   "source": [
    "mu, sd = 6, 2\n",
    "a = .1\n",
    "n = 100\n",
    "def gen_sample():\n",
    "    return pd.Series(scipy.random.normal(mu, sd, n))\n",
    "sample = gen_sample()"
   ]
  },
  {
   "cell_type": "code",
   "execution_count": 3,
   "metadata": {
    "collapsed": true
   },
   "outputs": [],
   "source": [
    "def crit_norm(mu_0, sample, significance):\n",
    "    a = significance\n",
    "    n = len(sample)\n",
    "    mean = sum(sample/n)\n",
    "    r = scipy.stats.norm.ppf(1 - a/2, loc=0, scale=1)\n",
    "    l = -r\n",
    "    phi_1 = (mean - mu_0) / np.sqrt(sd**2 / n)\n",
    "    return phi_1, l, r"
   ]
  },
  {
   "cell_type": "code",
   "execution_count": 4,
   "metadata": {
    "collapsed": true
   },
   "outputs": [],
   "source": [
    "def test_mu_eq(phi, l, r):\n",
    "    return l <= phi <= r\n",
    "def test_mu_eq_alt_gt(phi, l, r):\n",
    "    return phi <= r\n",
    "def test_mu(phi, l, r):\n",
    "    if l <= phi <= r: return 0\n",
    "    if phi < l: return -1\n",
    "    else: return 1"
   ]
  },
  {
   "cell_type": "markdown",
   "metadata": {},
   "source": [
    "Проверка гипотезы о значении математического ожидания при известной дисперсии\n",
    "----"
   ]
  },
  {
   "cell_type": "code",
   "execution_count": 5,
   "metadata": {
    "collapsed": false
   },
   "outputs": [
    {
     "ename": "TypeError",
     "evalue": "crit_norm() takes 3 positional arguments but 4 were given",
     "output_type": "error",
     "traceback": [
      "\u001b[1;31m---------------------------------------------------------------------------\u001b[0m",
      "\u001b[1;31mTypeError\u001b[0m                                 Traceback (most recent call last)",
      "\u001b[1;32m<ipython-input-5-cc461d3a02db>\u001b[0m in \u001b[0;36m<module>\u001b[1;34m()\u001b[0m\n\u001b[1;32m----> 1\u001b[1;33m \u001b[0mprint\u001b[0m\u001b[1;33m(\u001b[0m\u001b[1;34m'AC'\u001b[0m \u001b[1;32mif\u001b[0m \u001b[0mtest_mu_eq\u001b[0m\u001b[1;33m(\u001b[0m\u001b[1;33m*\u001b[0m\u001b[0mcrit_norm\u001b[0m\u001b[1;33m(\u001b[0m\u001b[1;36m6\u001b[0m\u001b[1;33m,\u001b[0m \u001b[1;36m2\u001b[0m\u001b[1;33m,\u001b[0m \u001b[0msample\u001b[0m\u001b[1;33m,\u001b[0m \u001b[0ma\u001b[0m\u001b[1;33m)\u001b[0m\u001b[1;33m)\u001b[0m \u001b[1;32melse\u001b[0m \u001b[1;34m'WA'\u001b[0m\u001b[1;33m)\u001b[0m\u001b[1;33m\u001b[0m\u001b[0m\n\u001b[0m",
      "\u001b[1;31mTypeError\u001b[0m: crit_norm() takes 3 positional arguments but 4 were given"
     ]
    }
   ],
   "source": [
    "print('AC' if test_mu_eq(*crit_norm(6, 2, sample, a)) else 'WA')"
   ]
  },
  {
   "cell_type": "code",
   "execution_count": null,
   "metadata": {
    "collapsed": false
   },
   "outputs": [],
   "source": [
    "mu_0 = sample.mean()\n",
    "print(mu_0)\n",
    "ab = np.linspace(0, 1, 1000)\n",
    "_ppf = [scipy.stats.norm.ppf(x, loc=mu_0, scale=sd) for x in ab]\n",
    "plt.plot(ab, _ppf)"
   ]
  },
  {
   "cell_type": "code",
   "execution_count": null,
   "metadata": {
    "collapsed": false
   },
   "outputs": [],
   "source": [
    "phi, l, r = crit_norm(mu_0, gen_sample(), a)\n",
    "print(phi)\n",
    "print((l,r))\n",
    "print('AC' if test_mu_eq(phi, l, r) else 'ALT')"
   ]
  },
  {
   "cell_type": "code",
   "execution_count": null,
   "metadata": {
    "collapsed": false
   },
   "outputs": [],
   "source": [
    "loc = test_mu(phi, l, r)\n",
    "if loc == 0: print('EQ')\n",
    "elif loc == 1: print('GT')\n",
    "else: print('LT')"
   ]
  },
  {
   "cell_type": "code",
   "execution_count": null,
   "metadata": {
    "collapsed": false
   },
   "outputs": [],
   "source": [
    "phi, l, r = crit_norm(mu_0, gen_sample(), 2*a)\n",
    "print(phi, r)\n",
    "print(\"AC\" if phi <= r else \"ALT\")"
   ]
  },
  {
   "cell_type": "markdown",
   "metadata": {},
   "source": [
    "Проверка гипотезы о значении математического ожидания при неизвестной дисперсии\n",
    "----"
   ]
  },
  {
   "cell_type": "code",
   "execution_count": null,
   "metadata": {
    "collapsed": false
   },
   "outputs": [],
   "source": [
    "s2 = sample.var()\n",
    "print(s2)"
   ]
  },
  {
   "cell_type": "code",
   "execution_count": null,
   "metadata": {
    "collapsed": true
   },
   "outputs": [],
   "source": [
    "def crit_t(mu_0, sample, significance):\n",
    "    a = significance\n",
    "    n = len(sample)\n",
    "    mean = sample.mean()\n",
    "    sd = sample.var()\n",
    "    r = scipy.stats.t.ppf(1 - a/2, df=(n-1))\n",
    "    l = -r\n",
    "    phi_1 = (mean - mu_0) / np.sqrt(sd**2 / n)\n",
    "    return phi_1, l, r"
   ]
  },
  {
   "cell_type": "code",
   "execution_count": null,
   "metadata": {
    "collapsed": false
   },
   "outputs": [],
   "source": [
    "phi, l, r = crit_t(mu_0, gen_sample(), significance=a)\n",
    "print(phi)\n",
    "print((l,r))"
   ]
  },
  {
   "cell_type": "code",
   "execution_count": null,
   "metadata": {
    "collapsed": false
   },
   "outputs": [],
   "source": [
    "phi, l, r = crit_t(mu_0, gen_sample(), significance=2*a)\n",
    "print(phi, r)\n",
    "print(\"AC\" if phi <= r else \"ALT\")"
   ]
  },
  {
   "cell_type": "markdown",
   "metadata": {},
   "source": [
    "Проверка гипотезы о числовом значении дисперсии\n",
    "----"
   ]
  },
  {
   "cell_type": "code",
   "execution_count": null,
   "metadata": {
    "collapsed": true
   },
   "outputs": [],
   "source": [
    "def crit(mu, sd_0, sample, significance):\n",
    "    a = significance\n",
    "    s2 = sample.var()\n",
    "    phi = (n-1) * s2 / sd_0**2\n",
    "    l = scipy.stats.chi2.ppf(a/2, df=n-1)\n",
    "    r = scipy.stats.chi2.ppf(1-a/2, df=n-1)\n",
    "    return phi,l,r"
   ]
  },
  {
   "cell_type": "code",
   "execution_count": null,
   "metadata": {
    "collapsed": false
   },
   "outputs": [],
   "source": [
    "phi, l, r = crit(mu, sd, gen_sample(), a)\n",
    "print(phi)\n",
    "print((l, r))"
   ]
  },
  {
   "cell_type": "code",
   "execution_count": null,
   "metadata": {
    "collapsed": false
   },
   "outputs": [],
   "source": [
    "print(\"AC\" if l <= phi <= r else \"WA\")"
   ]
  },
  {
   "cell_type": "code",
   "execution_count": null,
   "metadata": {
    "collapsed": false
   },
   "outputs": [],
   "source": [
    "phi, l, r = crit(mu, sd, gen_sample(), 2*a)\n",
    "print(phi, r)\n",
    "print(\"AC\" if phi <= r else \"ALT\")"
   ]
  }
 ],
 "metadata": {
  "kernelspec": {
   "display_name": "Python 3",
   "language": "python",
   "name": "python3"
  },
  "language_info": {
   "codemirror_mode": {
    "name": "ipython",
    "version": 3
   },
   "file_extension": ".py",
   "mimetype": "text/x-python",
   "name": "python",
   "nbconvert_exporter": "python",
   "pygments_lexer": "ipython3",
   "version": "3.5.1"
  }
 },
 "nbformat": 4,
 "nbformat_minor": 0
}
